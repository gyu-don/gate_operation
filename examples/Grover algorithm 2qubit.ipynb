{
 "cells": [
  {
   "cell_type": "code",
   "execution_count": 1,
   "metadata": {
    "collapsed": true
   },
   "outputs": [],
   "source": [
    "import np_gate\n",
    "import sp_gate\n",
    "from operation import Operation"
   ]
  },
  {
   "cell_type": "code",
   "execution_count": 2,
   "metadata": {},
   "outputs": [],
   "source": [
    "# NumPy Qubit (2 qubit)\n",
    "q = np_gate.Qubit(2)"
   ]
  },
  {
   "cell_type": "code",
   "execution_count": 3,
   "metadata": {},
   "outputs": [
    {
     "data": {
      "text/plain": [
       "[0.5+0.j]|00> + [0.5+0.j]|01> + [0.5+0.j]|10> + [0.5+0.j]|11> Measured: 00"
      ]
     },
     "execution_count": 3,
     "metadata": {},
     "output_type": "execute_result"
    }
   ],
   "source": [
    "# Hadamard\n",
    "q.h(0).h(1)"
   ]
  },
  {
   "cell_type": "code",
   "execution_count": 4,
   "metadata": {},
   "outputs": [
    {
     "data": {
      "text/plain": [
       "[0.5+0.j]|00> + [0.5+0.j]|01> + [0.5+0.j]|10> + [-0.5+0.j]|11> Measured: 00"
      ]
     },
     "execution_count": 4,
     "metadata": {},
     "output_type": "execute_result"
    }
   ],
   "source": [
    "# Oracle (|11> to -|11>)\n",
    "q.h(1).cx(0, 1).h(1)"
   ]
  },
  {
   "cell_type": "code",
   "execution_count": 5,
   "metadata": {},
   "outputs": [
    {
     "data": {
      "text/plain": [
       "[-1.+0.j]|11> Measured: 00"
      ]
     },
     "execution_count": 5,
     "metadata": {},
     "output_type": "execute_result"
    }
   ],
   "source": [
    "# Grover diffusion operator\n",
    "q.h(0).h(1).x(0).x(1).h(1).cx(0, 1).h(1).x(0).x(1).h(0).h(1)"
   ]
  },
  {
   "cell_type": "code",
   "execution_count": 6,
   "metadata": {
    "collapsed": true
   },
   "outputs": [],
   "source": [
    "# ↑ |11> found."
   ]
  },
  {
   "cell_type": "code",
   "execution_count": 7,
   "metadata": {
    "collapsed": true
   },
   "outputs": [],
   "source": [
    "# SymPy Qubit (2 qubit)\n",
    "q = sp_gate.Qubit(2)"
   ]
  },
  {
   "cell_type": "code",
   "execution_count": 8,
   "metadata": {},
   "outputs": [
    {
     "data": {
      "text/plain": [
       "1/2|00> + 1/2|01> + 1/2|10> + 1/2|11> Measured: 00"
      ]
     },
     "execution_count": 8,
     "metadata": {},
     "output_type": "execute_result"
    }
   ],
   "source": [
    "q.h(0).h(1)"
   ]
  },
  {
   "cell_type": "code",
   "execution_count": 9,
   "metadata": {},
   "outputs": [
    {
     "data": {
      "text/plain": [
       "1/2|00> + 1/2|01> + 1/2|10> + -1/2|11> Measured: 00"
      ]
     },
     "execution_count": 9,
     "metadata": {},
     "output_type": "execute_result"
    }
   ],
   "source": [
    "# Oracle (|11> to -|11>)\n",
    "q.h(1).cx(0, 1).h(1)"
   ]
  },
  {
   "cell_type": "code",
   "execution_count": 10,
   "metadata": {},
   "outputs": [
    {
     "data": {
      "text/plain": [
       "-1|11> Measured: 00"
      ]
     },
     "execution_count": 10,
     "metadata": {},
     "output_type": "execute_result"
    }
   ],
   "source": [
    "# Grover diffusion operator\n",
    "q.h(0).h(1).x(0).x(1).h(1).cx(0, 1).h(1).x(0).x(1).h(0).h(1)"
   ]
  },
  {
   "cell_type": "code",
   "execution_count": 11,
   "metadata": {
    "collapsed": true
   },
   "outputs": [],
   "source": [
    "# ↑ |11> found."
   ]
  },
  {
   "cell_type": "code",
   "execution_count": 12,
   "metadata": {
    "collapsed": true
   },
   "outputs": [],
   "source": [
    "# NumPy/SymPy Unitary also available.\n",
    "u = sp_gate.Unitary(2)"
   ]
  },
  {
   "cell_type": "code",
   "execution_count": 13,
   "metadata": {},
   "outputs": [
    {
     "data": {
      "text/plain": [
       "Unitary(2, arr=Matrix([\n",
       "[1, 0, 0,  0],\n",
       "[0, 1, 0,  0],\n",
       "[0, 0, 1,  0],\n",
       "[0, 0, 0, -1]]))"
      ]
     },
     "execution_count": 13,
     "metadata": {},
     "output_type": "execute_result"
    }
   ],
   "source": [
    "# Oracle (|11> to -|11>)\n",
    "u.h(1).cx(0, 1).h(1)"
   ]
  },
  {
   "cell_type": "code",
   "execution_count": 14,
   "metadata": {},
   "outputs": [
    {
     "data": {
      "text/plain": [
       "Unitary(2, arr=Matrix([\n",
       "[ 1/2, -1/2, -1/2,  1/2],\n",
       "[-1/2,  1/2, -1/2,  1/2],\n",
       "[-1/2, -1/2,  1/2,  1/2],\n",
       "[-1/2, -1/2, -1/2, -1/2]]))"
      ]
     },
     "execution_count": 14,
     "metadata": {},
     "output_type": "execute_result"
    }
   ],
   "source": [
    "# Grover diffusion operator\n",
    "u.h(0).h(1).x(0).x(1).h(1).cx(0, 1).h(1).x(0).x(1).h(0).h(1)"
   ]
  },
  {
   "cell_type": "code",
   "execution_count": 15,
   "metadata": {},
   "outputs": [
    {
     "data": {
      "text/plain": [
       "-1|11> Measured: 00"
      ]
     },
     "execution_count": 15,
     "metadata": {},
     "output_type": "execute_result"
    }
   ],
   "source": [
    "# Apply to qubit\n",
    "sp_gate.Qubit(2).h(0).h(1).u(u)"
   ]
  },
  {
   "cell_type": "code",
   "execution_count": 16,
   "metadata": {
    "collapsed": true
   },
   "outputs": [],
   "source": [
    "# `Operation` stores gate operations and can be applied to Qubit/Unitary.\n",
    "oracle = Operation().h(1).cx(0, 1).h(1)\n",
    "grover = Operation().h(0).h(1).x(0).x(1).h(1).cx(0, 1).h(1).x(0).x(1).h(0).h(1)"
   ]
  },
  {
   "cell_type": "code",
   "execution_count": 17,
   "metadata": {},
   "outputs": [
    {
     "data": {
      "text/plain": [
       "[-1.+0.j]|11> Measured: 00"
      ]
     },
     "execution_count": 17,
     "metadata": {},
     "output_type": "execute_result"
    }
   ],
   "source": [
    "np_gate.Qubit(2).h(0).h(1).apply(oracle).apply(grover)"
   ]
  },
  {
   "cell_type": "code",
   "execution_count": 18,
   "metadata": {},
   "outputs": [
    {
     "data": {
      "text/plain": [
       "Unitary(2, arr=\n",
       "[[ 0.5+0.j -0.5+0.j -0.5+0.j -0.5+0.j]\n",
       " [-0.5+0.j  0.5+0.j -0.5+0.j -0.5+0.j]\n",
       " [-0.5+0.j -0.5+0.j  0.5+0.j -0.5+0.j]\n",
       " [-0.5+0.j -0.5+0.j -0.5+0.j  0.5+0.j]])"
      ]
     },
     "execution_count": 18,
     "metadata": {},
     "output_type": "execute_result"
    }
   ],
   "source": [
    "np_gate.Unitary(2).apply(grover)"
   ]
  },
  {
   "cell_type": "code",
   "execution_count": 19,
   "metadata": {
    "collapsed": true
   },
   "outputs": [],
   "source": [
    "# `Operation` can use placeholder.\n",
    "op = Operation().x('target')"
   ]
  },
  {
   "cell_type": "code",
   "execution_count": 20,
   "metadata": {},
   "outputs": [
    {
     "data": {
      "text/plain": [
       "[1.+0.j]|10> Measured: 00"
      ]
     },
     "execution_count": 20,
     "metadata": {},
     "output_type": "execute_result"
    }
   ],
   "source": [
    "np_gate.Qubit(2).apply(op, target=0)  # Qubit(2).x(0)"
   ]
  },
  {
   "cell_type": "code",
   "execution_count": 21,
   "metadata": {},
   "outputs": [
    {
     "data": {
      "text/plain": [
       "[1.+0.j]|01> Measured: 00"
      ]
     },
     "execution_count": 21,
     "metadata": {},
     "output_type": "execute_result"
    }
   ],
   "source": [
    "np_gate.Qubit(2).apply(op, target=1)  # Qubit(2).x(1)"
   ]
  },
  {
   "cell_type": "code",
   "execution_count": null,
   "metadata": {
    "collapsed": true
   },
   "outputs": [],
   "source": []
  }
 ],
 "metadata": {
  "kernelspec": {
   "display_name": "Python 3",
   "language": "python",
   "name": "python3"
  },
  "language_info": {
   "codemirror_mode": {
    "name": "ipython",
    "version": 3
   },
   "file_extension": ".py",
   "mimetype": "text/x-python",
   "name": "python",
   "nbconvert_exporter": "python",
   "pygments_lexer": "ipython3",
   "version": "3.6.4"
  }
 },
 "nbformat": 4,
 "nbformat_minor": 2
}
