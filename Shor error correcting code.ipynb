{
 "cells": [
  {
   "cell_type": "code",
   "execution_count": 1,
   "metadata": {
    "collapsed": true
   },
   "outputs": [],
   "source": [
    "import random\n",
    "\n",
    "from np_gate import Qubit\n",
    "from operation import Operation"
   ]
  },
  {
   "cell_type": "code",
   "execution_count": 2,
   "metadata": {},
   "outputs": [
    {
     "data": {
      "text/plain": [
       "[ 0.70710678+0.j]|0> + [ 0.+0.70710678j]|1> Measured: 0"
      ]
     },
     "execution_count": 2,
     "metadata": {},
     "output_type": "execute_result"
    }
   ],
   "source": [
    "q = Qubit(1)\n",
    "q.h(0).s(0)"
   ]
  },
  {
   "cell_type": "code",
   "execution_count": 3,
   "metadata": {
    "collapsed": true
   },
   "outputs": [],
   "source": [
    "enc = Operation()"
   ]
  },
  {
   "cell_type": "code",
   "execution_count": 4,
   "metadata": {},
   "outputs": [
    {
     "data": {
      "text/plain": [
       "Operation().append_qubit(2).cx(0, 1).cx(0, 2).h(0).h(1).h(2).append_qubit(2).cx(0, 3).cx(0, 4).append_qubit(2).cx(1, 5).cx(1, 6).append_qubit(2).cx(2, 7).cx(2, 8)"
      ]
     },
     "execution_count": 4,
     "metadata": {},
     "output_type": "execute_result"
    }
   ],
   "source": [
    "# Encoding.\n",
    "enc.append_qubit(2).cx(0, 1).cx(0, 2).h(0).h(1).h(2)\n",
    "enc.append_qubit(2).cx(0, 3).cx(0, 4)\n",
    "enc.append_qubit(2).cx(1, 5).cx(1, 6)\n",
    "enc.append_qubit(2).cx(2, 7).cx(2, 8)"
   ]
  },
  {
   "cell_type": "code",
   "execution_count": 5,
   "metadata": {},
   "outputs": [
    {
     "data": {
      "text/plain": [
       "[ 0.25+0.25j]|000000000> + [ 0.25-0.25j]|001000011> + [ 0.25-0.25j]|010001100> + [ 0.25+0.25j]|011001111> + [ 0.25-0.25j]|100110000> + [ 0.25+0.25j]|101110011> + [ 0.25+0.25j]|110111100> + [ 0.25-0.25j]|111111111> Measured: 000000000"
      ]
     },
     "execution_count": 5,
     "metadata": {},
     "output_type": "execute_result"
    }
   ],
   "source": [
    "q.clone().apply(enc)"
   ]
  },
  {
   "cell_type": "code",
   "execution_count": 6,
   "metadata": {
    "collapsed": true
   },
   "outputs": [],
   "source": [
    "comm = Operation().h('e').t('e')"
   ]
  },
  {
   "cell_type": "code",
   "execution_count": 7,
   "metadata": {},
   "outputs": [
    {
     "data": {
      "text/plain": [
       "Operation().cx(2, 7).cx(2, 8).ccx(7, 8, 2).drop_qubit(8).drop_qubit(7).cx(1, 5).cx(1, 6).ccx(5, 6, 1).drop_qubit(6).drop_qubit(5).cx(0, 3).cx(0, 4).ccx(3, 4, 0).drop_qubit(4).drop_qubit(3).h(0).h(1).h(2).cx(0, 1).cx(0, 2).ccx(1, 2, 0).drop_qubit(2).drop_qubit(1)"
      ]
     },
     "execution_count": 7,
     "metadata": {},
     "output_type": "execute_result"
    }
   ],
   "source": [
    "dec = Operation()\n",
    "dec.cx(2, 7).cx(2, 8).ccx(7, 8, 2).drop_qubit(8).drop_qubit(7)\n",
    "dec.cx(1, 5).cx(1, 6).ccx(5, 6, 1).drop_qubit(6).drop_qubit(5)\n",
    "dec.cx(0, 3).cx(0, 4).ccx(3, 4, 0).drop_qubit(4).drop_qubit(3)\n",
    "dec.h(0).h(1).h(2).cx(0, 1).cx(0, 2).ccx(1, 2, 0).drop_qubit(2).drop_qubit(1)"
   ]
  },
  {
   "cell_type": "code",
   "execution_count": 8,
   "metadata": {},
   "outputs": [],
   "source": [
    "# try to send this qubit 20 times.\n",
    "err_bits = [random.randrange(9) for _ in range(20)]\n",
    "qs = [q.clone().apply(enc).apply(comm, e=e).apply(dec) for e in err_bits]"
   ]
  },
  {
   "cell_type": "code",
   "execution_count": 9,
   "metadata": {},
   "outputs": [
    {
     "data": {
      "text/plain": [
       "[1.0000000000000002,\n",
       " 1.0000000000000002,\n",
       " 1.0000000000000002,\n",
       " 1.0000000000000002,\n",
       " 1.0,\n",
       " 1.0000000000000002,\n",
       " 1.0000000000000004,\n",
       " 1.0,\n",
       " 1.0,\n",
       " 1.0000000000000027,\n",
       " 1.0000000000000002,\n",
       " 1.0,\n",
       " 1.0,\n",
       " 1.0,\n",
       " 1.0,\n",
       " 1.0,\n",
       " 1.0,\n",
       " 1.0000000000000002,\n",
       " 1.0,\n",
       " 1.0]"
      ]
     },
     "execution_count": 9,
     "metadata": {},
     "output_type": "execute_result"
    }
   ],
   "source": [
    "[q.fidelity(_q) for _q in qs]"
   ]
  },
  {
   "cell_type": "code",
   "execution_count": null,
   "metadata": {
    "collapsed": true
   },
   "outputs": [],
   "source": []
  }
 ],
 "metadata": {
  "kernelspec": {
   "display_name": "Python 3",
   "language": "python",
   "name": "python3"
  },
  "language_info": {
   "codemirror_mode": {
    "name": "ipython",
    "version": 3
   },
   "file_extension": ".py",
   "mimetype": "text/x-python",
   "name": "python",
   "nbconvert_exporter": "python",
   "pygments_lexer": "ipython3",
   "version": "3.6.4"
  }
 },
 "nbformat": 4,
 "nbformat_minor": 2
}
